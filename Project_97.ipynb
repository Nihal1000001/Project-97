{
  "nbformat": 4,
  "nbformat_minor": 0,
  "metadata": {
    "colab": {
      "provenance": [],
      "authorship_tag": "ABX9TyP+CYLoWaNdKpcgykWRijES"
    },
    "kernelspec": {
      "name": "python3",
      "display_name": "Python 3"
    },
    "language_info": {
      "name": "python"
    }
  },
  "cells": [
    {
      "cell_type": "code",
      "execution_count": 2,
      "metadata": {
        "colab": {
          "base_uri": "https://localhost:8080/"
        },
        "id": "2nr0i6jGTX3T",
        "outputId": "b0e9b6c8-7d19-4b45-af77-211caa508681"
      },
      "outputs": [
        {
          "output_type": "stream",
          "name": "stdout",
          "text": [
            "Please enter Year2024\n",
            "The given year is a leap year.\n",
            "Please enter height in cms180\n",
            "The height in inches is 70.92\n",
            "The height in feet is 5.904000000000001\n"
          ]
        }
      ],
      "source": [
        "year=int(input(\"Please enter Year\"))\n",
        "if(year%4==0 and  year%100 !=0 or year%400==0):\n",
        "  print(\"The given year is a leap year.\")\n",
        "else:\n",
        "  print(\"The given year is not a leap year.\")\n",
        "\n",
        "cm=float(input(\"Please enter height in cms\"))\n",
        "b=cm*0.394\n",
        "c=cm*0.0328\n",
        "print(\"The height in inches is\",b)\n",
        "print(\"The height in feet is\",c)\n",
        "\n",
        "\n"
      ]
    }
  ]
}